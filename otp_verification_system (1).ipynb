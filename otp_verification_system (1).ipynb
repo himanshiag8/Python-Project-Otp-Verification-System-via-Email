{
 "cells": [
  {
   "cell_type": "code",
   "execution_count": 3,
   "id": "ce78e0ae-84e0-4e16-b11a-6528e09aa6db",
   "metadata": {},
   "outputs": [
    {
     "name": "stdin",
     "output_type": "stream",
     "text": [
      "Enter your email address:  himanshiagarwal0123@gmail.com\n"
     ]
    },
    {
     "name": "stdout",
     "output_type": "stream",
     "text": [
      "OTP has been sent to your email address.\n"
     ]
    },
    {
     "name": "stdin",
     "output_type": "stream",
     "text": [
      "Enter the OTP you received:  12345\n"
     ]
    },
    {
     "name": "stdout",
     "output_type": "stream",
     "text": [
      "Incorrect OTP. You have 2 attempt(s) left.\n"
     ]
    },
    {
     "name": "stdin",
     "output_type": "stream",
     "text": [
      "Enter the OTP you received:  1478\n"
     ]
    },
    {
     "name": "stdout",
     "output_type": "stream",
     "text": [
      "Incorrect OTP. You have 1 attempt(s) left.\n"
     ]
    },
    {
     "name": "stdin",
     "output_type": "stream",
     "text": [
      "Enter the OTP you received:  123\n"
     ]
    },
    {
     "name": "stdout",
     "output_type": "stream",
     "text": [
      "You have exhausted all attempts. Verification failed.\n"
     ]
    }
   ],
   "source": [
    "import random\n",
    "import smtplib\n",
    "import time\n",
    "import os\n",
    "from email.mime.text import MIMEText\n",
    "from email.mime.multipart import MIMEMultipart\n",
    "\n",
    "# Generate OTP\n",
    "otp = str(random.randint(100000, 999999))\n",
    "otp_generated_time = time.time()\n",
    "\n",
    "# Get user's email address\n",
    "to_email = input(\"Enter your email address: \")\n",
    "\n",
    "# Retrieve sender's email and password from environment variables\n",
    "sender_email = os.getenv(\"SENDER_EMAIL\")\n",
    "sender_password = os.getenv(\"SENDER_PASSWORD\")\n",
    "\n",
    "if not sender_email or not sender_password:\n",
    "    print(\"Error: Sender's email or password not set in environment variables.\")\n",
    "    exit()\n",
    "\n",
    "# Prepare the email\n",
    "subject = \"Your OTP Verification Code\"\n",
    "body = f\"{otp} is your One-Time Password for verification.\"\n",
    "\n",
    "msg = MIMEMultipart()\n",
    "msg['From'] = sender_email\n",
    "msg['To'] = to_email\n",
    "msg['Subject'] = subject\n",
    "msg.attach(MIMEText(body, 'plain'))\n",
    "\n",
    "# Send the email\n",
    "try:\n",
    "    server = smtplib.SMTP('smtp.gmail.com', 587)\n",
    "    server.starttls()\n",
    "    server.login(sender_email, sender_password)\n",
    "    server.sendmail(sender_email, to_email, msg.as_string())\n",
    "    server.quit()\n",
    "    print(\"OTP has been sent to your email address.\")\n",
    "except Exception as e:\n",
    "    print(f\"Failed to send OTP: {e}\")\n",
    "    exit()\n",
    "\n",
    "# Prompt the user to enter the OTP with an expiry time limit\n",
    "attempts = 3\n",
    "while attempts > 0:\n",
    "    user_otp = input(\"Enter the OTP you received: \")\n",
    "\n",
    "    # Check if the OTP has expired\n",
    "    current_time = time.time()\n",
    "    if current_time - otp_generated_time > 60:  # 60 seconds expiry time\n",
    "        print(\"The OTP has expired. Please request a new one.\")\n",
    "        break\n",
    "\n",
    "    if user_otp == otp:\n",
    "        print(\"Your account has been successfully verified.\")\n",
    "        break\n",
    "    else:\n",
    "        attempts -= 1\n",
    "        if attempts > 0:\n",
    "            print(f\"Incorrect OTP. You have {attempts} attempt(s) left.\")\n",
    "        else:\n",
    "            print(\"You have exhausted all attempts. Verification failed.\")"
   ]
  },
  {
   "cell_type": "code",
   "execution_count": null,
   "id": "ca9b9e93-8757-432e-a319-d225db79e440",
   "metadata": {},
   "outputs": [],
   "source": [
    "import random\n",
    "import smtplib\n",
    "import time\n",
    "import os\n",
    "from email.mime.text import MIMEText\n",
    "from email.mime.multipart import MIMEMultipart\n",
    "import tkinter as tk\n",
    "from tkinter import messagebox\n",
    "\n",
    "# Initialize the attempt counter\n",
    "attempts = 3\n",
    "\n",
    "# Function to generate OTP and send email\n",
    "def send_otp():\n",
    "    global otp, otp_generated_time, attempts\n",
    "    otp = str(random.randint(100000, 999999))\n",
    "    otp_generated_time = time.time()\n",
    "\n",
    "    # Reset attempts\n",
    "    attempts = 3\n",
    "\n",
    "    # Retrieve sender's email and password from environment variables\n",
    "    sender_email = os.getenv(\"SENDER_EMAIL\")\n",
    "    sender_password = os.getenv(\"SENDER_PASSWORD\")\n",
    "\n",
    "    if not sender_email or not sender_password:\n",
    "        messagebox.showerror(\"Error\", \"Sender's email or password not set in environment variables.\")\n",
    "        return\n",
    "\n",
    "    to_email = email_entry.get()\n",
    "    if not to_email:\n",
    "        messagebox.showerror(\"Error\", \"Please enter your email address.\")\n",
    "        return\n",
    "\n",
    "    # Prepare the email\n",
    "    subject = \"Your OTP Verification Code\"\n",
    "    body = f\"{otp} is your One-Time Password for verification.\"\n",
    "\n",
    "    msg = MIMEMultipart()\n",
    "    msg['From'] = sender_email\n",
    "    msg['To'] = to_email\n",
    "    msg['Subject'] = subject\n",
    "    msg.attach(MIMEText(body, 'plain'))\n",
    "\n",
    "    # Send the email\n",
    "    try:\n",
    "        server = smtplib.SMTP('smtp.gmail.com', 587)\n",
    "        server.starttls()\n",
    "        server.login(sender_email, sender_password)\n",
    "        server.sendmail(sender_email, to_email, msg.as_string())\n",
    "        server.quit()\n",
    "        messagebox.showinfo(\"Success\", \"OTP has been sent to your email address.\")\n",
    "    except Exception as e:\n",
    "        messagebox.showerror(\"Error\", f\"Failed to send OTP: {e}\")\n",
    "\n",
    "# Function to verify the OTP\n",
    "def verify_otp():\n",
    "    global attempts\n",
    "    user_otp = otp_entry.get()\n",
    "\n",
    "    # Check if the OTP has expired\n",
    "    current_time = time.time()\n",
    "    if current_time - otp_generated_time > 60:  # 60 seconds expiry time\n",
    "        messagebox.showwarning(\"Expired\", \"The OTP has expired. Please request a new one.\")\n",
    "        root.destroy()\n",
    "        return\n",
    "\n",
    "    if user_otp == otp:\n",
    "        messagebox.showinfo(\"Success\", \"Your account has been successfully verified.\")\n",
    "        root.destroy()  # Close the GUI window\n",
    "    else:\n",
    "        attempts -= 1\n",
    "        if attempts > 0:\n",
    "            messagebox.showwarning(\"Incorrect OTP\", f\"Incorrect OTP. You have {attempts} attempt(s) left.\")\n",
    "        else:\n",
    "            messagebox.showerror(\"Failed\", \"You have exhausted all attempts. Verification failed.\")\n",
    "            root.destroy()  # Close the GUI window after 3 failed attempts\n",
    "\n",
    "# Create the main application window\n",
    "root = tk.Tk()\n",
    "root.title(\"OTP Verification System\")\n",
    "\n",
    "# Create and place widgets\n",
    "tk.Label(root, text=\"Enter your email address:\").grid(row=0, column=0, padx=10, pady=10)\n",
    "email_entry = tk.Entry(root, width=30)\n",
    "email_entry.grid(row=0, column=1, padx=10, pady=10)\n",
    "\n",
    "tk.Button(root, text=\"Send OTP\", command=send_otp).grid(row=1, column=0, columnspan=2, pady=10)\n",
    "\n",
    "tk.Label(root, text=\"Enter the OTP you received:\").grid(row=2, column=0, padx=10, pady=10)\n",
    "otp_entry = tk.Entry(root, width=30)\n",
    "otp_entry.grid(row=2, column=1, padx=10, pady=10)\n",
    "\n",
    "tk.Button(root, text=\"Verify OTP\", command=verify_otp).grid(row=3, column=0, columnspan=2, pady=10)\n",
    "\n",
    "# Run the application\n",
    "root.mainloop()\n"
   ]
  },
  {
   "cell_type": "code",
   "execution_count": null,
   "id": "95300790-2d62-449b-b7bb-7423ca2290bf",
   "metadata": {},
   "outputs": [],
   "source": []
  },
  {
   "cell_type": "code",
   "execution_count": null,
   "id": "ce3cea04-6596-4fa1-ac08-0efa50907876",
   "metadata": {},
   "outputs": [],
   "source": []
  }
 ],
 "metadata": {
  "kernelspec": {
   "display_name": "Python 3 (ipykernel)",
   "language": "python",
   "name": "python3"
  },
  "language_info": {
   "codemirror_mode": {
    "name": "ipython",
    "version": 3
   },
   "file_extension": ".py",
   "mimetype": "text/x-python",
   "name": "python",
   "nbconvert_exporter": "python",
   "pygments_lexer": "ipython3",
   "version": "3.11.7"
  }
 },
 "nbformat": 4,
 "nbformat_minor": 5
}
